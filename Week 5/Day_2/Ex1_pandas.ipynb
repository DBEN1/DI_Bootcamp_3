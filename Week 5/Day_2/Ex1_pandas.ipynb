{
 "cells": [
  {
   "cell_type": "code",
   "execution_count": 1,
   "id": "e6324b40-5ab3-4ffb-b9e2-7999aa081d4b",
   "metadata": {},
   "outputs": [
    {
     "name": "stdout",
     "output_type": "stream",
     "text": [
      "   order_id  quantity                              item_name  \\\n",
      "0         1         1           Chips and Fresh Tomato Salsa   \n",
      "1         1         1                                   Izze   \n",
      "2         1         1                       Nantucket Nectar   \n",
      "3         1         1  Chips and Tomatillo-Green Chili Salsa   \n",
      "4         2         2                           Chicken Bowl   \n",
      "5         3         1                           Chicken Bowl   \n",
      "6         3         1                          Side of Chips   \n",
      "7         4         1                          Steak Burrito   \n",
      "8         4         1                       Steak Soft Tacos   \n",
      "9         5         1                          Steak Burrito   \n",
      "\n",
      "                                  choice_description item_price  \n",
      "0                                                NaN     $2.39   \n",
      "1                                       [Clementine]     $3.39   \n",
      "2                                            [Apple]     $3.39   \n",
      "3                                                NaN     $2.39   \n",
      "4  [Tomatillo-Red Chili Salsa (Hot), [Black Beans...    $16.98   \n",
      "5  [Fresh Tomato Salsa (Mild), [Rice, Cheese, Sou...    $10.98   \n",
      "6                                                NaN     $1.69   \n",
      "7  [Tomatillo Red Chili Salsa, [Fajita Vegetables...    $11.75   \n",
      "8  [Tomatillo Green Chili Salsa, [Pinto Beans, Ch...     $9.25   \n",
      "9  [Fresh Tomato Salsa, [Rice, Black Beans, Pinto...     $9.25   \n",
      "4622\n",
      "<class 'pandas.core.frame.DataFrame'>\n",
      "RangeIndex: 4622 entries, 0 to 4621\n",
      "Data columns (total 5 columns):\n",
      " #   Column              Non-Null Count  Dtype \n",
      "---  ------              --------------  ----- \n",
      " 0   order_id            4622 non-null   int64 \n",
      " 1   quantity            4622 non-null   int64 \n",
      " 2   item_name           4622 non-null   object\n",
      " 3   choice_description  3376 non-null   object\n",
      " 4   item_price          4622 non-null   object\n",
      "dtypes: int64(2), object(3)\n",
      "memory usage: 180.7+ KB\n",
      "None\n",
      "5\n",
      "5\n",
      "Index(['order_id', 'quantity', 'item_name', 'choice_description',\n",
      "       'item_price'],\n",
      "      dtype='object')\n",
      "RangeIndex(start=0, stop=4622, step=1)\n"
     ]
    }
   ],
   "source": [
    "import pandas as pd\n",
    "chipo = pd.read_csv('https://raw.githubusercontent.com/justmarkham/DAT8/master/data/chipotle.tsv', sep='\\t')\n",
    "### Display the first 10 rows of ‘chipo’.\n",
    "print(chipo.head(10))\n",
    "### Determine the total number of entries in ‘chipo’.\n",
    "print(chipo.shape[0])  # Using shape\n",
    "# or\n",
    "print(chipo.info())  # Using info\n",
    "### Find the total number of columns in ‘chipo’.\n",
    "print(chipo.shape[1])  # Using shape\n",
    "# or\n",
    "print(len(chipo.columns))  # Using columns\n",
    "###  Print all the column names.\n",
    "print(chipo.columns)\n",
    "###Understand how the DataFrame is indexed.\n",
    "print(chipo.index)\n"
   ]
  },
  {
   "cell_type": "code",
   "execution_count": 2,
   "id": "2abfa1fa-3fcb-486a-8d1a-82fbd274809d",
   "metadata": {},
   "outputs": [
    {
     "name": "stdout",
     "output_type": "stream",
     "text": [
      "Chicken Bowl\n"
     ]
    }
   ],
   "source": [
    "### Find the most ordered item.\n",
    "print(chipo['item_name'].value_counts().idxmax())\n"
   ]
  },
  {
   "cell_type": "code",
   "execution_count": 4,
   "id": "52d56521-1955-4d6f-b15b-8c7e9ab8e722",
   "metadata": {},
   "outputs": [
    {
     "name": "stdout",
     "output_type": "stream",
     "text": [
      "4972\n"
     ]
    }
   ],
   "source": [
    "### Find the total number of items ordered.\n",
    "print(chipo['quantity'].sum())\n"
   ]
  },
  {
   "cell_type": "code",
   "execution_count": 3,
   "id": "a09e433a-bb49-41fc-990b-b8c7926c3d40",
   "metadata": {},
   "outputs": [
    {
     "name": "stdout",
     "output_type": "stream",
     "text": [
      "[Diet Coke]\n"
     ]
    }
   ],
   "source": [
    "### Find the most ordered item in the 'choice_description' column.\n",
    "print(chipo['choice_description'].value_counts().idxmax())\n"
   ]
  },
  {
   "cell_type": "code",
   "execution_count": 13,
   "id": "f2e69ba3-3b79-4cdf-8c15-89b6d7b6237e",
   "metadata": {},
   "outputs": [
    {
     "name": "stdout",
     "output_type": "stream",
     "text": [
      "float64\n",
      "float64\n"
     ]
    }
   ],
   "source": [
    "# Check the current datatype of 'item_price'\n",
    "print(chipo['item_price'].dtypes)\n",
    "\n",
    "# If it's not a float, convert it\n",
    "if chipo['item_price'].dtypes != 'float64':\n",
    "    chipo['item_price'] = chipo['item_price'].str.replace('$', '')  # Remove the dollar sign\n",
    "    chipo['item_price'] = chipo['item_price'].astype(float)  # Convert the column to float\n",
    "\n",
    "# Confirm the conversion\n",
    "print(chipo['item_price'].dtypes)\n"
   ]
  },
  {
   "cell_type": "code",
   "execution_count": 8,
   "id": "447dc97e-10d2-43f7-b43a-540e5cd89510",
   "metadata": {},
   "outputs": [
    {
     "name": "stdout",
     "output_type": "stream",
     "text": [
      "34500.16\n"
     ]
    }
   ],
   "source": [
    "###Calculate the total revenue.\n",
    "print(chipo['item_price'].sum())\n"
   ]
  },
  {
   "cell_type": "code",
   "execution_count": 10,
   "id": "ed781fda-529c-4e3a-b607-5d9e59ad406d",
   "metadata": {},
   "outputs": [
    {
     "name": "stdout",
     "output_type": "stream",
     "text": [
      "1834\n"
     ]
    }
   ],
   "source": [
    "### Find the total number of orders.\n",
    "print(chipo['order_id'].nunique())"
   ]
  },
  {
   "cell_type": "code",
   "execution_count": 11,
   "id": "8f327239-cf9a-4f72-a805-766b0401c272",
   "metadata": {},
   "outputs": [
    {
     "name": "stdout",
     "output_type": "stream",
     "text": [
      "18.811428571428575\n"
     ]
    }
   ],
   "source": [
    "### Compute the average order value.\n",
    "total_revenue = chipo['item_price'].sum()\n",
    "total_orders = chipo['order_id'].nunique()\n",
    "average_order_value = total_revenue / total_orders\n",
    "print(average_order_value)\n"
   ]
  },
  {
   "cell_type": "code",
   "execution_count": 12,
   "id": "0d9578ce-e358-47f5-b756-4967373c87cb",
   "metadata": {},
   "outputs": [
    {
     "name": "stdout",
     "output_type": "stream",
     "text": [
      "50\n"
     ]
    }
   ],
   "source": [
    "### Determine the total number of unique items sold.\n",
    "print(chipo['item_name'].nunique())\n"
   ]
  },
  {
   "cell_type": "code",
   "execution_count": 14,
   "id": "82f80f8b-2c7b-43e8-a85b-683627dc8355",
   "metadata": {},
   "outputs": [
    {
     "name": "stdout",
     "output_type": "stream",
     "text": [
      "There are 1130 products that cost more than $10.\n"
     ]
    }
   ],
   "source": [
    "### Use the already created dataframe ‘chipo’ from the previous section.\n",
    "### Using conditional selection, find the count of products that cost more than $10. Note: the price is listed in the ‘item_price’ column.\n",
    "# Filter the DataFrame\n",
    "chipo_over_10 = chipo[chipo['item_price'] > 10]\n",
    "\n",
    "# Count the number of products\n",
    "num_products_over_10 = chipo_over_10.shape[0]\n",
    "\n",
    "# Print the result\n",
    "print(f'There are {num_products_over_10} products that cost more than $10.')\n"
   ]
  },
  {
   "cell_type": "code",
   "execution_count": 15,
   "id": "3cf09e55-8c3f-4f98-9d90-086e32f26abf",
   "metadata": {},
   "outputs": [],
   "source": [
    "users = pd.read_csv('https://raw.githubusercontent.com/justmarkham/DAT8/master/data/u.user', sep='|')\n"
   ]
  },
  {
   "cell_type": "code",
   "execution_count": 16,
   "id": "8f894ca3-a6ba-4969-b503-31c3943fd9e8",
   "metadata": {},
   "outputs": [
    {
     "name": "stdout",
     "output_type": "stream",
     "text": [
      "occupation\n",
      "administrator    38.746835\n",
      "artist           31.392857\n",
      "doctor           43.571429\n",
      "educator         42.010526\n",
      "engineer         36.388060\n",
      "entertainment    29.222222\n",
      "executive        38.718750\n",
      "healthcare       41.562500\n",
      "homemaker        32.571429\n",
      "lawyer           36.750000\n",
      "librarian        40.000000\n",
      "marketing        37.615385\n",
      "none             26.555556\n",
      "other            34.523810\n",
      "programmer       33.121212\n",
      "retired          63.071429\n",
      "salesman         35.666667\n",
      "scientist        35.548387\n",
      "student          22.081633\n",
      "technician       33.148148\n",
      "writer           36.311111\n",
      "Name: age, dtype: float64\n"
     ]
    }
   ],
   "source": [
    "mean_age = users.groupby('occupation')['age'].mean()\n",
    "print(mean_age)\n"
   ]
  },
  {
   "cell_type": "code",
   "execution_count": 17,
   "id": "44ae1951-9fcc-48aa-93ab-4d8072766e02",
   "metadata": {},
   "outputs": [],
   "source": [
    "# Define data\n",
    "raw_data_1 = {\n",
    "    'subject_id': ['1', '2', '3', '4', '5'],\n",
    "    'first_name': ['Alex', 'Amy', 'Allen', 'Alice', 'Ayoung'],\n",
    "    'last_name': ['Anderson', 'Ackerman', 'Ali', 'Aoni', 'Atiches']\n",
    "}\n",
    "\n",
    "raw_data_2 = {\n",
    "    'subject_id': ['4', '5', '6', '7', '8'],\n",
    "    'first_name': ['Billy', 'Brian', 'Bran', 'Bryce', 'Betty'],\n",
    "    'last_name': ['Bonder', 'Black', 'Balwner', 'Brice', 'Btisan']\n",
    "}\n",
    "\n",
    "raw_data_3 = {\n",
    "    'subject_id': ['1', '2', '3', '4', '5', '7', '8', '9', '10', '11'],\n",
    "    'test_id': [51, 15, 15, 61, 16, 14, 15, 1, 61, 16]\n",
    "}\n",
    "\n",
    "# Create DataFrames\n",
    "data1 = pd.DataFrame(raw_data_1, columns = ['subject_id', 'first_name', 'last_name'])\n",
    "data2 = pd.DataFrame(raw_data_2, columns = ['subject_id', 'first_name', 'last_name'])\n",
    "data3 = pd.DataFrame(raw_data_3, columns = ['subject_id', 'test_id'])\n"
   ]
  },
  {
   "cell_type": "code",
   "execution_count": 18,
   "id": "fedb7f3e-c271-465b-9b3b-59ab1c2ffed0",
   "metadata": {},
   "outputs": [
    {
     "name": "stdout",
     "output_type": "stream",
     "text": [
      "  subject_id first_name last_name\n",
      "0          1       Alex  Anderson\n",
      "1          2        Amy  Ackerman\n",
      "2          3      Allen       Ali\n",
      "3          4      Alice      Aoni\n",
      "4          5     Ayoung   Atiches\n",
      "0          4      Billy    Bonder\n",
      "1          5      Brian     Black\n",
      "2          6       Bran   Balwner\n",
      "3          7      Bryce     Brice\n",
      "4          8      Betty    Btisan\n"
     ]
    }
   ],
   "source": [
    "all_data = pd.concat([data1, data2])\n",
    "print(all_data)\n"
   ]
  },
  {
   "cell_type": "code",
   "execution_count": 19,
   "id": "b5000635-73ac-46ce-b858-49c3fa13b6eb",
   "metadata": {},
   "outputs": [
    {
     "name": "stdout",
     "output_type": "stream",
     "text": [
      "  subject_id first_name last_name subject_id first_name last_name\n",
      "0          1       Alex  Anderson          4      Billy    Bonder\n",
      "1          2        Amy  Ackerman          5      Brian     Black\n",
      "2          3      Allen       Ali          6       Bran   Balwner\n",
      "3          4      Alice      Aoni          7      Bryce     Brice\n",
      "4          5     Ayoung   Atiches          8      Betty    Btisan\n"
     ]
    }
   ],
   "source": [
    "all_data_col = pd.concat([data1, data2], axis=1)\n",
    "print(all_data_col)\n"
   ]
  },
  {
   "cell_type": "code",
   "execution_count": 26,
   "id": "12fd2cea-5fa1-4b3f-9621-2d842bffcdeb",
   "metadata": {},
   "outputs": [
    {
     "name": "stdout",
     "output_type": "stream",
     "text": [
      "sepal_length    0\n",
      "sepal_width     0\n",
      "petal_length    0\n",
      "petal_width     0\n",
      "species         0\n",
      "dtype: int64\n"
     ]
    }
   ],
   "source": [
    "### Assign appropriate column names to the DataFrame, such as ‘sepal_length’, ‘sepal_width’, ‘petal_length’, ‘petal_width’, and ‘species’.\n",
    "### Check if there are any missing values in ‘iris’ using the isnull() function.\n",
    "url = \"https://archive.ics.uci.edu/ml/machine-learning-databases/iris/iris.data\"\n",
    "iris = pd.read_csv(url, header=None)  # The dataset does not contain a header\n",
    "column_names = ['sepal_length', 'sepal_width', 'petal_length', 'petal_width', 'species']\n",
    "iris.columns = column_names\n",
    "missing_values = iris.isnull().sum()\n",
    "print(missing_values)\n"
   ]
  },
  {
   "cell_type": "code",
   "execution_count": 27,
   "id": "2cf38960-532a-436a-b452-68ffc3a00df2",
   "metadata": {},
   "outputs": [],
   "source": [
    "\n",
    "# Create data dictionary\n",
    "data = {'evolution': ['Ivysaur', 'Charmeleon', 'Wartortle', 'Metapod'],\n",
    "        'hp': [45, 39, 44, 45],\n",
    "        'name': ['Bulbasaur', 'Charmander', 'Squirtle', 'Caterpie'],\n",
    "        'pokedex': ['yes', 'no', 'yes', 'no'],\n",
    "        'type': ['grass', 'fire', 'water', 'bug']}\n",
    "\n",
    "# Convert dictionary to DataFrame\n",
    "pokemon = pd.DataFrame(data)\n",
    "# Rearrange columns\n",
    "pokemon = pokemon[['name', 'type', 'hp', 'evolution', 'pokedex']]\n"
   ]
  },
  {
   "cell_type": "code",
   "execution_count": 29,
   "id": "f4a13b32-37c0-4728-aa5f-fa4d680868cc",
   "metadata": {},
   "outputs": [
    {
     "name": "stdout",
     "output_type": "stream",
     "text": [
      "   Unnamed: 0     Id      Name  Year Gender State  Count\n",
      "0       11349  11350      Emma  2004      F    AK     62\n",
      "1       11350  11351   Madison  2004      F    AK     48\n",
      "2       11351  11352    Hannah  2004      F    AK     46\n",
      "3       11352  11353     Grace  2004      F    AK     44\n",
      "4       11353  11354     Emily  2004      F    AK     41\n",
      "5       11354  11355   Abigail  2004      F    AK     37\n",
      "6       11355  11356    Olivia  2004      F    AK     33\n",
      "7       11356  11357  Isabella  2004      F    AK     30\n",
      "8       11357  11358    Alyssa  2004      F    AK     29\n",
      "9       11358  11359    Sophia  2004      F    AK     28\n"
     ]
    }
   ],
   "source": [
    "url = \"https://raw.githubusercontent.com/guipsamora/pandas_exercises/master/06_Stats/US_Baby_Names/US_Baby_Names_right.csv\"\n",
    "baby_names = pd.read_csv(url)\n",
    "print(baby_names.head(10))\n",
    "baby_names = baby_names.drop(columns=['Unnamed: 0', 'Id'])\n"
   ]
  },
  {
   "cell_type": "code",
   "execution_count": 32,
   "id": "7b463f4d-97ec-494d-84a3-6be63ee1da51",
   "metadata": {},
   "outputs": [
    {
     "name": "stdout",
     "output_type": "stream",
     "text": [
      "Date\n",
      "7 days      37\n",
      "21 days      2\n",
      "448 days     1\n",
      "56 days      1\n",
      "6 days       1\n",
      "43 days      1\n",
      "Name: count, dtype: int64\n"
     ]
    }
   ],
   "source": [
    "# Retrieve the dataset\n",
    "url = \"https://raw.githubusercontent.com/datasets/investor-flow-of-funds-us/master/data/weekly.csv\"\n",
    "investor_data = pd.read_csv(url)\n",
    "# Convert 'Date' to datetime\n",
    "investor_data['Date'] = pd.to_datetime(investor_data['Date'])\n",
    "\n",
    "# Check frequency\n",
    "print(investor_data.Date.diff().value_counts())\n",
    "\n",
    "# Set 'Date' as index\n",
    "investor_data.set_index('Date', inplace=True)\n",
    "\n"
   ]
  },
  {
   "cell_type": "code",
   "execution_count": null,
   "id": "4b63ecf3-9dd5-4e9d-8fe9-da1e51532f18",
   "metadata": {},
   "outputs": [],
   "source": []
  }
 ],
 "metadata": {
  "kernelspec": {
   "display_name": "Python 3 (ipykernel)",
   "language": "python",
   "name": "python3"
  },
  "language_info": {
   "codemirror_mode": {
    "name": "ipython",
    "version": 3
   },
   "file_extension": ".py",
   "mimetype": "text/x-python",
   "name": "python",
   "nbconvert_exporter": "python",
   "pygments_lexer": "ipython3",
   "version": "3.11.4"
  }
 },
 "nbformat": 4,
 "nbformat_minor": 5
}
