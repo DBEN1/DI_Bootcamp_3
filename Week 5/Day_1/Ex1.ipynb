{
 "cells": [
  {
   "cell_type": "code",
   "execution_count": 2,
   "id": "5668627e-2036-4b36-99a3-274da01f8700",
   "metadata": {},
   "outputs": [],
   "source": [
    "### Import Numpy as np\n",
    "import numpy as np"
   ]
  },
  {
   "cell_type": "code",
   "execution_count": 3,
   "id": "069f117c-29e0-4c86-b097-7c24e97b90bb",
   "metadata": {},
   "outputs": [
    {
     "data": {
      "text/plain": [
       "array([0., 0., 0., 0., 0., 0., 0., 0., 0., 0.])"
      ]
     },
     "execution_count": 3,
     "metadata": {},
     "output_type": "execute_result"
    }
   ],
   "source": [
    " np.zeros(10)"
   ]
  },
  {
   "cell_type": "code",
   "execution_count": 4,
   "id": "c81c1b8b-f541-4a22-81ca-9a6c6cb331ef",
   "metadata": {},
   "outputs": [
    {
     "name": "stdout",
     "output_type": "stream",
     "text": [
      "128 bytes\n"
     ]
    }
   ],
   "source": [
    "n = np.zeros((4,4))\n",
    "print(\"%d bytes\" % (n.size * n.itemsize))"
   ]
  },
  {
   "cell_type": "code",
   "execution_count": 10,
   "id": "d60a8269-a61c-4b49-b15f-5a9f53a9b8b0",
   "metadata": {},
   "outputs": [
    {
     "name": "stdout",
     "output_type": "stream",
     "text": [
      "[10 11 12 13 14 15 16 17 18 19 20 21 22 23 24 25 26 27 28 29 30 31 32 33\n",
      " 34 35 36 37 38 39 40 41 42 43 44 45 46 47 48 49]\n"
     ]
    }
   ],
   "source": [
    "vector = np.arange(10, 50)\n",
    "print(vector)\n"
   ]
  },
  {
   "cell_type": "code",
   "execution_count": 11,
   "id": "39433b69-e55a-4808-ad53-e2374a2de399",
   "metadata": {},
   "outputs": [
    {
     "name": "stdout",
     "output_type": "stream",
     "text": [
      "[49 48 47 46 45 44 43 42 41 40 39 38 37 36 35 34 33 32 31 30 29 28 27 26\n",
      " 25 24 23 22 21 20 19 18 17 16 15 14 13 12 11 10]\n"
     ]
    }
   ],
   "source": [
    "reverse_vector = vector[::-1]\n",
    "\n",
    "print(reverse_vector)"
   ]
  },
  {
   "cell_type": "code",
   "execution_count": 15,
   "id": "c98f512a-9b68-4347-b1fc-7a7032915a28",
   "metadata": {},
   "outputs": [
    {
     "name": "stdout",
     "output_type": "stream",
     "text": [
      "[[0 1 2]\n",
      " [3 4 5]\n",
      " [6 7 8]]\n"
     ]
    }
   ],
   "source": [
    "array = np.arange(9)\n",
    "matrix = np.reshape(array, (3, 3))\n",
    "\n",
    "print(matrix)"
   ]
  },
  {
   "cell_type": "code",
   "execution_count": 16,
   "id": "fc29fc6f-baa6-47e3-a419-3cea66e4738f",
   "metadata": {},
   "outputs": [
    {
     "name": "stdout",
     "output_type": "stream",
     "text": [
      "(array([1, 2, 3, 4, 5, 6, 7, 8], dtype=int64),)\n"
     ]
    }
   ],
   "source": [
    "indices = np.nonzero(array)\n",
    "\n",
    "print(indices)"
   ]
  },
  {
   "cell_type": "code",
   "execution_count": 17,
   "id": "4c27176a-fa9a-4488-8799-720748e40a62",
   "metadata": {},
   "outputs": [
    {
     "name": "stdout",
     "output_type": "stream",
     "text": [
      "[[1. 0. 0.]\n",
      " [0. 1. 0.]\n",
      " [0. 0. 1.]]\n"
     ]
    }
   ],
   "source": [
    "identity_matrix = np.eye(3)\n",
    "\n",
    "print(identity_matrix)"
   ]
  },
  {
   "cell_type": "code",
   "execution_count": 18,
   "id": "f078f39a-38f8-423d-9600-c5b97fe38ecb",
   "metadata": {},
   "outputs": [
    {
     "name": "stdout",
     "output_type": "stream",
     "text": [
      "[[0 1 2 3 4]\n",
      " [0 1 2 3 4]\n",
      " [0 1 2 3 4]\n",
      " [0 1 2 3 4]\n",
      " [0 1 2 3 4]]\n"
     ]
    }
   ],
   "source": [
    "row = np.arange(5)\n",
    "\n",
    "# Create a 5x5 matrix with row values ranging from 0 to 4\n",
    "matrix = np.tile(row, (5, 1))\n",
    "\n",
    "print(matrix)"
   ]
  },
  {
   "cell_type": "code",
   "execution_count": 19,
   "id": "5b5e2b2a-29ef-46b0-ab37-b41591aed3ab",
   "metadata": {},
   "outputs": [
    {
     "name": "stdout",
     "output_type": "stream",
     "text": [
      "[0.09090909 0.18181818 0.27272727 0.36363636 0.45454545 0.54545455\n",
      " 0.63636364 0.72727273 0.81818182 0.90909091]\n"
     ]
    }
   ],
   "source": [
    "vector = np.linspace(0, 1, 12, endpoint=True)[1:-1]\n",
    "\n",
    "print(vector)"
   ]
  },
  {
   "cell_type": "code",
   "execution_count": 20,
   "id": "799ca135-f06f-4c26-ab61-2a7ed4b15d18",
   "metadata": {},
   "outputs": [
    {
     "name": "stdout",
     "output_type": "stream",
     "text": [
      "[0.11417616 0.16777568 0.24871313 0.28108476 0.39305172 0.51178714\n",
      " 0.52784202 0.58162493 0.67308284 0.96950743]\n"
     ]
    }
   ],
   "source": [
    "vector = np.random.rand(10)\n",
    "\n",
    "# Sort the vector\n",
    "sorted_vector = np.sort(vector)\n",
    "\n",
    "print(sorted_vector)"
   ]
  },
  {
   "cell_type": "code",
   "execution_count": 21,
   "id": "0f207809-801f-4967-806c-b0f0da82ca16",
   "metadata": {},
   "outputs": [
    {
     "name": "stdout",
     "output_type": "stream",
     "text": [
      "<class 'numpy.int8'>: min = -128, max = 127\n",
      "<class 'numpy.int32'>: min = -2147483648, max = 2147483647\n",
      "<class 'numpy.int64'>: min = -9223372036854775808, max = 9223372036854775807\n",
      "<class 'numpy.float32'>: min = -3.4028234663852886e+38, max = 3.4028234663852886e+38, eps = 1.1920928955078125e-07\n",
      "<class 'numpy.float64'>: min = -1.7976931348623157e+308, max = 1.7976931348623157e+308, eps = 2.220446049250313e-16\n"
     ]
    }
   ],
   "source": [
    "for dtype in [np.int8, np.int32, np.int64]:\n",
    "    info = np.iinfo(dtype)\n",
    "    print(f\"{dtype}: min = {info.min}, max = {info.max}\")\n",
    "\n",
    "# Floating-point types\n",
    "for dtype in [np.float32, np.float64]:\n",
    "    info = np.finfo(dtype)\n",
    "    print(f\"{dtype}: min = {info.min}, max = {info.max}, eps = {info.eps}\")"
   ]
  },
  {
   "cell_type": "code",
   "execution_count": 22,
   "id": "0437e0d9-2e06-4c71-a462-0d2fdb58763a",
   "metadata": {},
   "outputs": [
    {
     "name": "stdout",
     "output_type": "stream",
     "text": [
      "Original array:\n",
      "[0.89817697 0.47810203 0.14862083 0.54475915 0.58843976 0.71569985\n",
      " 0.5444485  0.07845476 0.4714025  0.53860265]\n",
      "Array after conversion:\n",
      "[0 0 0 0 0 0 0 0 0 0]\n"
     ]
    }
   ],
   "source": [
    "array = np.random.rand(10).astype(np.float32)\n",
    "\n",
    "print(\"Original array:\")\n",
    "print(array)\n",
    "\n",
    "# Convert the array to int32 in place\n",
    "array = array.astype(np.int32)\n",
    "\n",
    "print(\"Array after conversion:\")\n",
    "print(array)\n"
   ]
  },
  {
   "cell_type": "code",
   "execution_count": 23,
   "id": "3f328c60-c35d-4d1d-ba8d-3f8942c81515",
   "metadata": {},
   "outputs": [
    {
     "name": "stdout",
     "output_type": "stream",
     "text": [
      "[[-1.  0.  1.]\n",
      " [-1.  0.  1.]\n",
      " [-1.  0.  1.]]\n"
     ]
    }
   ],
   "source": [
    "# Create a 2D array (matrix)\n",
    "matrix = np.array([[1, 2, 3], [4, 5, 6], [7, 8, 9]])\n",
    "\n",
    "# Compute the mean of each row\n",
    "row_means = np.mean(matrix, axis=1)\n",
    "\n",
    "# Subtract the mean from each row\n",
    "matrix = matrix - row_means.reshape(-1, 1)\n",
    "\n",
    "print(matrix)"
   ]
  },
  {
   "cell_type": "code",
   "execution_count": 24,
   "id": "cb4b402f-1fa6-4c61-8e71-a866021b6aa4",
   "metadata": {},
   "outputs": [
    {
     "name": "stdout",
     "output_type": "stream",
     "text": [
      "Original matrix:\n",
      "[[1 6 3]\n",
      " [4 5 9]\n",
      " [7 2 8]]\n",
      "Matrix sorted by the nth column:\n",
      "[[7 2 8]\n",
      " [4 5 9]\n",
      " [1 6 3]]\n"
     ]
    }
   ],
   "source": [
    "# Create a 2D array\n",
    "matrix = np.array([[1, 6, 3], [4, 5, 9], [7, 2, 8]])\n",
    "\n",
    "print(\"Original matrix:\")\n",
    "print(matrix)\n",
    "\n",
    "# Choose a column to sort by\n",
    "n = 1  # Second column\n",
    "\n",
    "# Get the indices that would sort the nth column\n",
    "indices = np.argsort(matrix[:, n])\n",
    "\n",
    "# Sort the matrix by the nth column\n",
    "sorted_matrix = matrix[indices]\n",
    "\n",
    "print(\"Matrix sorted by the nth column:\")\n",
    "print(sorted_matrix)\n",
    "\n",
    "\n"
   ]
  },
  {
   "cell_type": "code",
   "execution_count": 25,
   "id": "833ef165-69bc-41b9-b14f-b53738be2d29",
   "metadata": {},
   "outputs": [
    {
     "name": "stdout",
     "output_type": "stream",
     "text": [
      "Original matrix:\n",
      "[[1 2 3]\n",
      " [4 5 6]\n",
      " [7 8 9]]\n",
      "Matrix after swapping the first and second rows:\n",
      "[[4 5 6]\n",
      " [1 2 3]\n",
      " [7 8 9]]\n"
     ]
    }
   ],
   "source": [
    "# Create a 2D array\n",
    "matrix = np.array([[1, 2, 3], [4, 5, 6], [7, 8, 9]])\n",
    "\n",
    "print(\"Original matrix:\")\n",
    "print(matrix)\n",
    "\n",
    "# Swap the first and second rows\n",
    "matrix[[0, 1]] = matrix[[1, 0]]\n",
    "\n",
    "print(\"Matrix after swapping the first and second rows:\")\n",
    "print(matrix)"
   ]
  },
  {
   "cell_type": "code",
   "execution_count": 26,
   "id": "5657bb64-27cc-4ebf-bf18-8451a13306f8",
   "metadata": {},
   "outputs": [
    {
     "name": "stdout",
     "output_type": "stream",
     "text": [
      "[0 0 1 1 1 2 4 4]\n"
     ]
    }
   ],
   "source": [
    "# Given bincount\n",
    "C = np.array([2, 3, 1, 0, 2])\n",
    "\n",
    "# Produce an array such that np.bincount(A) == C\n",
    "A = np.repeat(np.arange(len(C)), C)\n",
    "\n",
    "print(A)\n",
    "\n"
   ]
  },
  {
   "cell_type": "code",
   "execution_count": null,
   "id": "dd1575c0-f975-4a90-86b8-bd4821a44d22",
   "metadata": {},
   "outputs": [],
   "source": []
  }
 ],
 "metadata": {
  "kernelspec": {
   "display_name": "Python 3 (ipykernel)",
   "language": "python",
   "name": "python3"
  },
  "language_info": {
   "codemirror_mode": {
    "name": "ipython",
    "version": 3
   },
   "file_extension": ".py",
   "mimetype": "text/x-python",
   "name": "python",
   "nbconvert_exporter": "python",
   "pygments_lexer": "ipython3",
   "version": "3.11.4"
  }
 },
 "nbformat": 4,
 "nbformat_minor": 5
}
