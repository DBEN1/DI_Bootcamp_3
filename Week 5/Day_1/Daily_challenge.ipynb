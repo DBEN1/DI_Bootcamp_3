{
 "cells": [
  {
   "cell_type": "code",
   "execution_count": 1,
   "id": "1e045a7a-8acb-4a8a-b8fa-946f7d8babba",
   "metadata": {},
   "outputs": [],
   "source": [
    "### Data Matrix"
   ]
  },
  {
   "cell_type": "code",
   "execution_count": 2,
   "id": "b64f4fa7-0c14-43c0-8c54-8b4ed933a37f",
   "metadata": {},
   "outputs": [],
   "source": [
    "import numpy as np\n",
    "\n",
    "# Seed the random number generator for reproducibility\n",
    "np.random.seed(0)\n",
    "\n",
    "# Create the data matrix\n",
    "data = np.random.randint(1, 100, size=25).reshape(5,5)\n"
   ]
  },
  {
   "cell_type": "code",
   "execution_count": 3,
   "id": "8a1bf086-13f0-4282-94ba-fde80044b899",
   "metadata": {},
   "outputs": [],
   "source": [
    "# Matrix manipulation - Swap the second and fourth rows of the data matrix.\n",
    "data[[1, 3]] = data[[3, 1]]\n"
   ]
  },
  {
   "cell_type": "code",
   "execution_count": 4,
   "id": "41096a43-f600-41f4-963a-0edb0eb70a33",
   "metadata": {},
   "outputs": [],
   "source": [
    "# Normalization - Normalize all the elements in the data matrix.\n",
    "data_min, data_max = data.min(), data.max()\n",
    "data_normalized = (data - data_min) / (data_max - data_min)\n"
   ]
  },
  {
   "cell_type": "code",
   "execution_count": 5,
   "id": "64841f41-26b8-4f8b-8596-6c769afce243",
   "metadata": {},
   "outputs": [],
   "source": [
    "# Z-score normalization - Standardize the data matrix using Z-score normalization.\n",
    "data_mean, data_std = data.mean(), data.std()\n",
    "data_standardized = (data - data_mean) / data_std\n"
   ]
  },
  {
   "cell_type": "code",
   "execution_count": 8,
   "id": "63e4d389-029f-42ea-b337-093aa54703e2",
   "metadata": {},
   "outputs": [],
   "source": [
    "# Array splitting - Reshape the data matrix into a vector and split this array into five equal-sized sub-arrays.\n",
    "data_vector = data.ravel()\n",
    "sub_arrays = np.array_split(data_vector, 5)\n"
   ]
  },
  {
   "cell_type": "code",
   "execution_count": 9,
   "id": "21edbd42-e626-4cb4-83cb-ceb648a9d18f",
   "metadata": {},
   "outputs": [],
   "source": [
    "#Dot product - Compute the dot product of two vectors.\n",
    "v1 = np.array([1, 2, 3, 4, 5])\n",
    "v2 = np.array([6, 7, 8, 9, 10])\n",
    "dot_product = v1.dot(v2)\n"
   ]
  },
  {
   "cell_type": "code",
   "execution_count": 10,
   "id": "adf94190-34d8-4011-a1a5-143928132bac",
   "metadata": {},
   "outputs": [],
   "source": [
    "# Matrix multiplication - Perform matrix multiplication.\n",
    "data2 = np.random.randint(1, 100, size=9).reshape(3,3)\n",
    "matrix_product = data[:3, :3].dot(data2)\n"
   ]
  },
  {
   "cell_type": "code",
   "execution_count": 11,
   "id": "980566ee-31bf-4a40-901d-abeea7ef8947",
   "metadata": {},
   "outputs": [],
   "source": [
    "# Inverse of a matrix - Compute the inverse of a matrix.\n",
    "I = 2 * np.eye(3)\n",
    "I_inverse = np.linalg.inv(I)\n"
   ]
  },
  {
   "cell_type": "code",
   "execution_count": 12,
   "id": "8bbd7eba-3db7-4072-81d0-be0f297b6efe",
   "metadata": {},
   "outputs": [],
   "source": [
    "# Eigenvalues and eigenvectors - Compute the eigenvalues and eigenvectors.\n",
    "eigenvalues, eigenvectors = np.linalg.eig(data[:3, :3])\n"
   ]
  },
  {
   "cell_type": "code",
   "execution_count": 15,
   "id": "191f7074-bdc3-457e-8dc3-3525c61ef81d",
   "metadata": {},
   "outputs": [],
   "source": [
    "# Find missing values - Find the indices of the missing values.\n",
    "# Create the data matrix\n",
    "data = np.random.randint(1, 100, size=25).reshape(5,5).astype(float)\n",
    "np.random.seed(0)\n",
    "data[np.random.randint(0, 5, 5), np.random.randint(0, 5, 5)] = np.nan\n",
    "missing_indices = np.where(np.isnan(data))\n"
   ]
  },
  {
   "cell_type": "code",
   "execution_count": null,
   "id": "05e3b647-9dda-4f43-8e52-f2574d2042ae",
   "metadata": {},
   "outputs": [],
   "source": [
    "# Replace missing values - Replace the missing values in the data matrix.\n",
    "data_mean = np.nanmean(data)\n",
    "data[np.isnan(data)] = data_mean\n"
   ]
  }
 ],
 "metadata": {
  "kernelspec": {
   "display_name": "Python 3 (ipykernel)",
   "language": "python",
   "name": "python3"
  },
  "language_info": {
   "codemirror_mode": {
    "name": "ipython",
    "version": 3
   },
   "file_extension": ".py",
   "mimetype": "text/x-python",
   "name": "python",
   "nbconvert_exporter": "python",
   "pygments_lexer": "ipython3",
   "version": "3.11.4"
  }
 },
 "nbformat": 4,
 "nbformat_minor": 5
}
